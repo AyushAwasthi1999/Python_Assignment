{
 "cells": [
  {
   "cell_type": "markdown",
   "id": "e85e171c",
   "metadata": {},
   "source": [
    "# 01 :- Write a Python program to check if a number is positive, negative or zero"
   ]
  },
  {
   "cell_type": "code",
   "execution_count": 10,
   "id": "705c6913",
   "metadata": {},
   "outputs": [
    {
     "name": "stdout",
     "output_type": "stream",
     "text": [
      "ENTER THE NUMBER-5\n",
      "NUMBER IS NEGATIVE\n"
     ]
    }
   ],
   "source": [
    "num1 = int(input('ENTER THE NUMBER'))\n",
    "\n",
    "if (num1>0):\n",
    "    print('NUMBER IS POSITIVE')\n",
    "    \n",
    "elif (num1==0):\n",
    "    print('NUMBER IS ZERO')\n",
    "    \n",
    "else:\n",
    "    print('NUMBER IS NEGATIVE')"
   ]
  },
  {
   "cell_type": "markdown",
   "id": "094245d0",
   "metadata": {},
   "source": [
    "# 02 :- Write a Python program to check if a number is positive, negative or zero"
   ]
  },
  {
   "cell_type": "code",
   "execution_count": 2,
   "id": "d1d070ef",
   "metadata": {},
   "outputs": [
    {
     "name": "stdout",
     "output_type": "stream",
     "text": [
      "ENTER A NUMBER:5\n",
      "5 is a positive\n"
     ]
    }
   ],
   "source": [
    "num = int(input(\"ENTER A NUMBER:\"))\n",
    "\n",
    "if num > 0:\n",
    "    print(num,\"is a positive\")\n",
    "   \n",
    "elif num == 0:\n",
    "    print(num,\"is a zero\")\n",
    "    \n",
    "else:\n",
    "    print(num,\"is a negative\")"
   ]
  },
  {
   "cell_type": "markdown",
   "id": "2a2feccd",
   "metadata": {},
   "source": [
    "# 03 :- Write a Python program to get the Fibonacci series of given range."
   ]
  },
  {
   "cell_type": "code",
   "execution_count": 11,
   "id": "bf553d7f",
   "metadata": {},
   "outputs": [
    {
     "name": "stdout",
     "output_type": "stream",
     "text": [
      "ENTER NUMBER : 20\n",
      "0\n",
      "1\n",
      "1\n",
      "2\n",
      "3\n",
      "5\n",
      "8\n",
      "13\n"
     ]
    }
   ],
   "source": [
    "n=int(input(\"ENTER NUMBER : \"))\n",
    "\n",
    "x=0\n",
    "y=1\n",
    "z=0\n",
    "\n",
    "while (z<=n):\n",
    "    print(z)\n",
    "    \n",
    "    x=y\n",
    "    y=z\n",
    "    z=x+y"
   ]
  },
  {
   "cell_type": "markdown",
   "id": "0864026a",
   "metadata": {},
   "source": [
    "# 04 :- How memory is managed in Python?"
   ]
  },
  {
   "cell_type": "markdown",
   "id": "843f9f29",
   "metadata": {},
   "source": [
    "### ANSWER :- Memory management in Python involves a private heap containing all Python objects and data structures. The management of this private heap is ensured internally by the Python memory manager. The Python memory manager has different components which deal with various dynamic storage management aspects, like sharing, segmentation, preallocation or caching."
   ]
  },
  {
   "cell_type": "markdown",
   "id": "fa7e6a9d",
   "metadata": {},
   "source": [
    "# 05 :- What is the purpose continue statement in python?"
   ]
  },
  {
   "cell_type": "markdown",
   "id": "84b4ab06",
   "metadata": {},
   "source": [
    "### Definition = The continue keyword is used to end the current iteration in a for loop (or a while loop), and continues to the next iteration."
   ]
  },
  {
   "cell_type": "code",
   "execution_count": 1,
   "id": "34645048",
   "metadata": {},
   "outputs": [
    {
     "name": "stdout",
     "output_type": "stream",
     "text": [
      "1\n",
      "2\n",
      "4\n",
      "5\n",
      "6\n",
      "7\n",
      "8\n",
      "9\n"
     ]
    }
   ],
   "source": [
    "i = 0\n",
    "while i < 9:\n",
    "  i += 1\n",
    "  if i == 3:\n",
    "    continue\n",
    "  print(i)"
   ]
  },
  {
   "cell_type": "markdown",
   "id": "ea7fe16c",
   "metadata": {},
   "source": [
    "# 06 :- Write python program that swap two number with temp variable and\n",
    "# without temp variable."
   ]
  },
  {
   "cell_type": "code",
   "execution_count": 1,
   "id": "bc73531a",
   "metadata": {},
   "outputs": [
    {
     "name": "stdout",
     "output_type": "stream",
     "text": [
      "A =  10 AND B =  22\n",
      "A =  22 AND B =  10\n"
     ]
    }
   ],
   "source": [
    "a=10\n",
    "b=22\n",
    "\n",
    "print(\"A = \",a,\"AND B = \",b)\n",
    "\n",
    "a=a+b    #10+22=32\n",
    "b=a-b    #32-22=10  (VALUE OF B)\n",
    "a=a-b    #32-10=22  (VALUE OF A)\n",
    "\n",
    "print(\"A = \",a,\"AND B = \",b)"
   ]
  },
  {
   "cell_type": "markdown",
   "id": "fb4f2985",
   "metadata": {},
   "source": [
    "# 07 :- Write a Python program to find whether a given number is even or odd,\n",
    "# print out an appropriate message to the user."
   ]
  },
  {
   "cell_type": "code",
   "execution_count": 5,
   "id": "cf814a1c",
   "metadata": {},
   "outputs": [
    {
     "name": "stdout",
     "output_type": "stream",
     "text": [
      "ENTER AN INTEGER NUMBER : 97\n",
      "97  IS AND ODD NUMBER\n"
     ]
    }
   ],
   "source": [
    "number = int(input(\"ENTER AN INTEGER NUMBER : \"))\n",
    "remainder = number % 2\n",
    "\n",
    "if (remainder == 0):\n",
    "    print(number,\" IS AN EVEN NUMBER\")\n",
    "  \n",
    "else:\n",
    "    print(number,\" IS AND ODD NUMBER\")\n"
   ]
  },
  {
   "cell_type": "markdown",
   "id": "c3982844",
   "metadata": {},
   "source": [
    "# 08 :- Write a Python program to test whether a passed letter is a vowel or not"
   ]
  },
  {
   "cell_type": "code",
   "execution_count": 15,
   "id": "1426fcc1",
   "metadata": {},
   "outputs": [
    {
     "ename": "IndentationError",
     "evalue": "unexpected indent (4037553512.py, line 8)",
     "output_type": "error",
     "traceback": [
      "\u001b[1;36m  Input \u001b[1;32mIn [15]\u001b[1;36m\u001b[0m\n\u001b[1;33m    count = count+1\u001b[0m\n\u001b[1;37m    ^\u001b[0m\n\u001b[1;31mIndentationError\u001b[0m\u001b[1;31m:\u001b[0m unexpected indent\n"
     ]
    }
   ],
   "source": [
    "x = input(\"ENTER A SENTENCE: \")\n",
    "\n",
    "count = 0\n",
    "\n",
    "for i in x :\n",
    " if i.lower()=='a' or i.lower()=='e' or i.lower()=='i' or i.lower()==\"o\" or i.lower()=='u':\n",
    "  print(i)\n",
    "   count = count+1\n",
    "\n",
    " if count == 0 :\n",
    "   print(\"NO VOWEL FOUND\")\n",
    "    \n",
    " else:\n",
    "    print(\"NUMBER OF VOWELS: \",count)"
   ]
  },
  {
   "cell_type": "code",
   "execution_count": null,
   "id": "8ebc796e",
   "metadata": {},
   "outputs": [],
   "source": []
  }
 ],
 "metadata": {
  "kernelspec": {
   "display_name": "Python 3 (ipykernel)",
   "language": "python",
   "name": "python3"
  },
  "language_info": {
   "codemirror_mode": {
    "name": "ipython",
    "version": 3
   },
   "file_extension": ".py",
   "mimetype": "text/x-python",
   "name": "python",
   "nbconvert_exporter": "python",
   "pygments_lexer": "ipython3",
   "version": "3.9.12"
  }
 },
 "nbformat": 4,
 "nbformat_minor": 5
}
