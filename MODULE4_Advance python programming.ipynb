{
 "cells": [
  {
   "cell_type": "markdown",
   "id": "13dfe95f",
   "metadata": {},
   "source": [
    "# What is File function in python? What is keywords to create and write file."
   ]
  },
  {
   "cell_type": "markdown",
   "id": "a140b38b",
   "metadata": {},
   "source": [
    "ANSWER :- A file is a named location on disk to store related information. We can access the stored information (non-volatile) after the program termination. The file-handling implementation is slightly lengthy or complicated in the other programming language, but it is easier and shorter in Python.\n",
    "\n",
    "KEYWORD :- To create a new file in Python, use the open() method, with one of the following parameters:\n",
    "\n",
    "\"x\" - Create - will create a file, returns an error if the file exist\n",
    "\n",
    "\"a\" - Append - will create a file if the specified file does not exist\n",
    "\n",
    "\"w\" - Write - will create a file if the specified file does not exist"
   ]
  },
  {
   "cell_type": "markdown",
   "id": "1119a400",
   "metadata": {},
   "source": [
    "# Write a Python program to read an entire text file ."
   ]
  },
  {
   "cell_type": "code",
   "execution_count": null,
   "id": "a422e13f",
   "metadata": {},
   "outputs": [],
   "source": [
    "# Program to show various ways to read and\n",
    "# write data in a file.\n",
    "file1 = open(\"myfile.txt\",\"w\")\n",
    "L = [\"This is Delhi \\n\",\"This is Paris \\n\",\"This is London \\n\"]\n",
    "\n",
    "# \\n is placed to indicate EOL (End of Line)\n",
    "file1.write(\"Hello \\n\")\n",
    "file1.writelines(L)\n",
    "file1.close() #to change file access modes\n",
    "\n",
    "file1 = open(\"myfile.txt\",\"r+\")\n",
    "\n",
    "print(\"Output of Read function is \")\n",
    "print(file1.read())\n",
    "print()\n",
    "\n",
    "# seek(n) takes the file handle to the nth\n",
    "# byte from the beginning.\n",
    "file1.seek(0)\n",
    "\n",
    "print( \"Output of Readline function is \")\n",
    "print(file1.readline())\n",
    "print()\n",
    "\n",
    "file1.seek(0)\n",
    "\n",
    "# To show difference between read and readline\n",
    "print(\"Output of Read(9) function is \")\n",
    "print(file1.read(9))\n",
    "print()\n",
    "\n",
    "file1.seek(0)\n",
    "\n",
    "print(\"Output of Readline(9) function is \")\n",
    "print(file1.readline(9))\n",
    "\n",
    "file1.seek(0)\n",
    "# readlines function\n",
    "print(\"Output of Readlines function is \")\n",
    "print(file1.readlines())\n",
    "print()\n",
    "file1.close()\n"
   ]
  },
  {
   "cell_type": "markdown",
   "id": "9b78f382",
   "metadata": {},
   "source": [
    "# Write a Python program to append text to a file and display the text"
   ]
  },
  {
   "cell_type": "code",
   "execution_count": null,
   "id": "7d7677ff",
   "metadata": {},
   "outputs": [],
   "source": [
    "f = open(\"file.txt\",\"a\")\n",
    "str = input(\"\\n\\t\\tEnter Data TO Append  In file.txt : \")\n",
    "f.write(str)\n",
    "f = open(\"file.txt\",\"r\")\n",
    "print(f.read())\n",
    "f.close()"
   ]
  },
  {
   "cell_type": "markdown",
   "id": "1b48ce1e",
   "metadata": {},
   "source": [
    "# Write a Python program to read first n lines of a file"
   ]
  },
  {
   "cell_type": "code",
   "execution_count": null,
   "id": "510e2e24",
   "metadata": {},
   "outputs": [],
   "source": [
    "def file_read_from_head(fname, nlines):\n",
    "        from itertools import islice\n",
    "        with open(fname) as f:\n",
    "                for line in islice(f, nlines):\n",
    "                        print(line)\n",
    "file_read_from_head('test.txt',2)\n"
   ]
  },
  {
   "cell_type": "markdown",
   "id": "1af58763",
   "metadata": {},
   "source": [
    "# Write a Python program to read last n lines of a file"
   ]
  },
  {
   "cell_type": "code",
   "execution_count": null,
   "id": "fd232623",
   "metadata": {},
   "outputs": [],
   "source": [
    "\n",
    "# Python implementation to\n",
    "# read last N lines of a file\n",
    " \n",
    "# Function to read\n",
    "# last N lines of the file\n",
    "def LastNlines(fname, N):\n",
    "    # opening file using with() method\n",
    "    # so that file get closed\n",
    "    # after completing work\n",
    "    with open(fname) as file:\n",
    "         \n",
    "        # loop to read iterate\n",
    "        # last n lines and print it\n",
    "        for line in (file.readlines() [-N:]):\n",
    "            print(line, end ='')\n",
    " \n",
    " \n",
    "# Driver Code:\n",
    "if __name__ == '__main__':\n",
    "    fname = 'File1.txt'\n",
    "    N = 3\n",
    "    try:\n",
    "        LastNlines(fname, N)\n",
    "    except:\n",
    "        print('File not found')\n"
   ]
  },
  {
   "cell_type": "markdown",
   "id": "155e6ccc",
   "metadata": {},
   "source": [
    "# Write a Python program to read a file line by line and store it into a list"
   ]
  },
  {
   "cell_type": "code",
   "execution_count": null,
   "id": "6361ca94",
   "metadata": {},
   "outputs": [],
   "source": [
    "def file_read(fname):\n",
    "        with open(fname) as f:\n",
    "                #Content_list is the list that contains the read lines.     \n",
    "                content_list = f.readlines()\n",
    "                print(content_list)\n",
    "\n",
    "file_read(\\'test.txt\\')"
   ]
  },
  {
   "cell_type": "markdown",
   "id": "2c3542ff",
   "metadata": {},
   "source": [
    "# Write a Python program to read a file line by line store it into a variable"
   ]
  },
  {
   "cell_type": "code",
   "execution_count": null,
   "id": "71054375",
   "metadata": {},
   "outputs": [],
   "source": [
    "f = open(\"file.txt\",\"r\")\n",
    "str=\"\"\n",
    "\n",
    "for i in range(0,100):\n",
    "    str=str + f.read(i)\n",
    "\n",
    "print(str)"
   ]
  },
  {
   "cell_type": "markdown",
   "id": "3431e75f",
   "metadata": {},
   "source": [
    "# Write a python program to find the longest words"
   ]
  },
  {
   "cell_type": "code",
   "execution_count": null,
   "id": "8bd286b6",
   "metadata": {},
   "outputs": [],
   "source": [
    "# input text file\n",
    "inputFile = \"ExampleTextFile.txt\"\n",
    "\n",
    "# Opening the given file in read-only mode.\n",
    "with open(inputFile, 'r') as filedata:\n",
    "\n",
    "# Getting the list of words of a file\n",
    "wordsList = filedata.read().split()\n",
    "\n",
    "# finding the length of the longest word in the above words list\n",
    "longestWordLength = len(max(wordsList, key=len))\n",
    "\n",
    "# Storing all the words having the maximum length(longest word length)\n",
    "\n",
    "# Here, we are checking all the words whose length is equal to that of the longest word\n",
    "result = [textword for textword in wordsList if len(textword) == longestWordLength]\n",
    "\n",
    "# Print the longest words from a text file\n",
    "print(\"The following are the longest words from a text file:\")\n",
    "print(result)\n",
    "\n",
    "# Closing the input file\n",
    "filedata.close()"
   ]
  },
  {
   "cell_type": "markdown",
   "id": "0af13cb2",
   "metadata": {},
   "source": [
    "# Write a Python program to count the number of lines in a text file"
   ]
  },
  {
   "cell_type": "code",
   "execution_count": null,
   "id": "4346676b",
   "metadata": {},
   "outputs": [],
   "source": [
    "fname = input(\"Enter file name: \")\n",
    "num_lines = 0\n",
    "with open(fname, 'r') as f:\n",
    "    for line in f:\n",
    "        num_lines += 1\n",
    "print(\"Number of lines:\")\n",
    "print(num_lines)"
   ]
  },
  {
   "cell_type": "markdown",
   "id": "4844da34",
   "metadata": {},
   "source": [
    "# Write a Python program to count the frequency of words in a file."
   ]
  },
  {
   "cell_type": "code",
   "execution_count": null,
   "id": "f271f1b6",
   "metadata": {},
   "outputs": [],
   "source": [
    "from collections import Counter\n",
    "def word_count(fname):\n",
    "        with open(fname) as f:\n",
    "                return Counter(f.read().split())\n",
    "\n",
    "print(\"Number of words in the file :\",word_count(\"test.txt\"))"
   ]
  },
  {
   "cell_type": "markdown",
   "id": "70fb0424",
   "metadata": {},
   "source": [
    "# Write a Python program to write a list to a file."
   ]
  },
  {
   "cell_type": "code",
   "execution_count": null,
   "id": "43489ac6",
   "metadata": {},
   "outputs": [],
   "source": [
    "# list of names\n",
    "names = ['Jessa', 'Eric', 'Bob']\n",
    "\n",
    "# open file in write mode\n",
    "with open(r'E:/demos/files_demos/account/sales.txt', 'w') as fp:\n",
    "    for item in names:\n",
    "        # write each item on a new line\n",
    "        fp.write(\"%s\\n\" % item)\n",
    "    print('Done')"
   ]
  },
  {
   "cell_type": "markdown",
   "id": "3cdeb048",
   "metadata": {},
   "source": [
    "# Write a Python program to copy the contents of a file to another file."
   ]
  },
  {
   "cell_type": "code",
   "execution_count": null,
   "id": "eb1e1a47",
   "metadata": {},
   "outputs": [],
   "source": [
    "sfile=input(\"Enter Source File:\")\n",
    "\n",
    "try:\n",
    "    sf=open(sfile,\"rb\")\n",
    "\n",
    "    tfile = input(\"Enter Target File:\")\n",
    "    tf=open(tfile,\"wb\")\n",
    "\n",
    "    tf.write(sf.read())\n",
    "\n",
    "    sf.close()\n",
    "    tf.close()\n",
    "    print(\"File Copied...\")\n",
    "except FileNotFoundError as e:\n",
    "    print(e)"
   ]
  },
  {
   "cell_type": "markdown",
   "id": "406aa4df",
   "metadata": {},
   "source": [
    "# Explain Exception handling?"
   ]
  },
  {
   "cell_type": "markdown",
   "id": "eb14fa2f",
   "metadata": {},
   "source": [
    "In the example, we are trying to divide a number by 0 . Here, this code generates an exception. To handle the exception, we have put the code, 5 / 0 inside the try block. Now when an exception occurs, the rest of the code inside the try block is skipped."
   ]
  },
  {
   "cell_type": "markdown",
   "id": "743904f9",
   "metadata": {},
   "source": [
    "# What is an Error in Python?"
   ]
  },
  {
   "cell_type": "markdown",
   "id": "f9d2dde7",
   "metadata": {},
   "source": [
    "The error indicates trouble that primarily occurs due to the scarcity of system resources. The exceptions are the issues that can appear at runtime and compile time. 2. It is not possible to recover from an error."
   ]
  },
  {
   "cell_type": "markdown",
   "id": "35316bb1",
   "metadata": {},
   "source": [
    "# How many except statements can a try-except block have? Name Some\n",
    "# built-in exception classes:"
   ]
  },
  {
   "cell_type": "markdown",
   "id": "b7a6ba8d",
   "metadata": {},
   "source": [
    "Explanation: There has to be at least one except statement.\n",
    "\n",
    "This is the base class for all built-in exceptions. It is not meant to be directly inherited by user-defined classes."
   ]
  },
  {
   "cell_type": "markdown",
   "id": "1f899158",
   "metadata": {},
   "source": [
    " # When will the else part of try-except-else be executed?"
   ]
  },
  {
   "cell_type": "markdown",
   "id": "c9e20c66",
   "metadata": {},
   "source": [
    " ANSWER :- The else part is executed when no exception occurs."
   ]
  },
  {
   "cell_type": "markdown",
   "id": "102a0e23",
   "metadata": {},
   "source": [
    "# Can one block of except statements handle multiple exception?"
   ]
  },
  {
   "cell_type": "markdown",
   "id": "0e4c3b68",
   "metadata": {},
   "source": [
    " try-except blocks can be used to catch and respond to one or multiple exceptions"
   ]
  },
  {
   "cell_type": "markdown",
   "id": "0effce22",
   "metadata": {},
   "source": [
    "# When is the finally block executed?"
   ]
  },
  {
   "cell_type": "markdown",
   "id": "0953a62f",
   "metadata": {},
   "source": [
    "ANSWRR :- The finally block will be executed no matter if the try block raises an error or not. This can be useful to close objects and clean up resources"
   ]
  },
  {
   "cell_type": "markdown",
   "id": "8f3e222e",
   "metadata": {},
   "source": [
    "# What happens when „1‟== 1 is executed?"
   ]
  },
  {
   "cell_type": "markdown",
   "id": "0e8c252e",
   "metadata": {},
   "source": [
    "ANSWER :- it simply evaluates to false and does not raise any exception."
   ]
  },
  {
   "cell_type": "markdown",
   "id": "a9b3b242",
   "metadata": {},
   "source": [
    "# How Do You Handle Exceptions With Try/Except/Finally In Python?"
   ]
  },
  {
   "cell_type": "markdown",
   "id": "94fe90c2",
   "metadata": {},
   "source": [
    "The try block lets you test a block of code for errors. The except block lets you handle the error. The else block lets you execute code when there is no error. The finally block lets you execute code, regardless of the result of the try- and except blocks."
   ]
  },
  {
   "cell_type": "markdown",
   "id": "d771f3e5",
   "metadata": {},
   "source": [
    "# Write python program that user to enter only odd numbers or even number"
   ]
  },
  {
   "cell_type": "code",
   "execution_count": null,
   "id": "40c78b08",
   "metadata": {},
   "outputs": [],
   "source": [
    "num = int(input(\"Enter a number: \"))\n",
    "mod = num % 2\n",
    "if mod > 0:\n",
    "    print(\"This is an odd number.\")\n",
    "else:\n",
    "    print(\"This is an even number.\")"
   ]
  },
  {
   "cell_type": "markdown",
   "id": "64c9b690",
   "metadata": {},
   "source": [
    "# What are oops concepts?"
   ]
  },
  {
   "cell_type": "markdown",
   "id": "bda4158a",
   "metadata": {},
   "source": [
    "ANSWER :- Major OOP (object-oriented programming) concepts in Python include Class, Object, Method, Inheritance, Polymorphism, Data Abstraction, and Encapsulation."
   ]
  },
  {
   "cell_type": "markdown",
   "id": "4947e4a3",
   "metadata": {},
   "source": [
    "# How to Define a Class in Python?"
   ]
  },
  {
   "cell_type": "markdown",
   "id": "76009f85",
   "metadata": {},
   "source": [
    "ANSWER :- A class in Python can be defined using the class keyword. As per the syntax above, a class is defined using the class keyword followed by the class name and : operator after the class name, which allows you to continue in the next indented line to define class members."
   ]
  },
  {
   "cell_type": "markdown",
   "id": "b6cd4b78",
   "metadata": {},
   "source": [
    "# What Is Self?"
   ]
  },
  {
   "cell_type": "markdown",
   "id": "f4fa5e65",
   "metadata": {},
   "source": [
    "SELF represents the instance of class. This handy keyword allows you to access variables, attributes, and methods of a defined class in Python."
   ]
  },
  {
   "cell_type": "markdown",
   "id": "f0430858",
   "metadata": {},
   "source": [
    "# Give An Example Of A Python Class\n"
   ]
  },
  {
   "cell_type": "markdown",
   "id": "84908423",
   "metadata": {},
   "source": [
    "ANSWER :- An object is called an instance of a class. For example, suppose Bike is a class then we can create objects like bike1 , bike2 , etc from the class. Here's the syntax to create an object. Here, bike1 is the object of the class."
   ]
  },
  {
   "cell_type": "markdown",
   "id": "5c3e7a3d",
   "metadata": {},
   "source": [
    "# Write a Python class named Rectangle constructed by a length and width\n",
    "# and a method which will compute the area of a rectangle"
   ]
  },
  {
   "cell_type": "code",
   "execution_count": null,
   "id": "0f7774ab",
   "metadata": {},
   "outputs": [],
   "source": [
    "class Rectangle():\n",
    "    def __init__(self, l, w):\n",
    "        self.length = l\n",
    "        self.width  = w\n",
    "\n",
    "    def rectangle_area(self):\n",
    "        return self.length*self.width\n",
    "\n",
    "newRectangle = Rectangle(12, 10)\n",
    "print(newRectangle.rectangle_area())"
   ]
  },
  {
   "cell_type": "markdown",
   "id": "cc1d2562",
   "metadata": {},
   "source": [
    "# Write a Python class named Circle constructed by a radius and two\n",
    "# methods which will compute the area and the perimeter of a circle\n"
   ]
  },
  {
   "cell_type": "code",
   "execution_count": null,
   "id": "f83dbdca",
   "metadata": {},
   "outputs": [],
   "source": [
    "# \"\"\" write a python class named circle constructed by a radius and two methods which will compute the area and the\n",
    "# perimeter of a circle \"\"\"\n",
    "\n",
    "from math import pi\n",
    "\n",
    "\n",
    "class circle:\n",
    "    def __init__(self):\n",
    "        self.radius = float(input(\"Enter Radius of Circle : \"))\n",
    "\n",
    "    def compute_area(self):\n",
    "        print(\"Area of circle is : \", pi * self.radius * self.radius)\n",
    "\n",
    "    def compute_perimeter(self):\n",
    "        print(\"Perimeter of circle is : \", 2 * pi * self.radius)\n",
    "\n",
    "\n",
    "circle_object = circle()\n",
    "circle_object.compute_area()\n",
    "circle_object.compute_perimeter()"
   ]
  },
  {
   "cell_type": "markdown",
   "id": "34ea2cea",
   "metadata": {},
   "source": [
    "# Explain Inheritance in Python with an example?"
   ]
  },
  {
   "cell_type": "markdown",
   "id": "4a6aaeb3",
   "metadata": {},
   "source": [
    "ANSWER :- Inheritance relationship defines the classes that inherit from other classes as derived, subclass, or sub-type classes. Base class remains to be the source from which a subclass inherits. For example, you have a Base class of “Animal,” and a “Lion” is a Derived class. The inheritance will be Lion is an Animal."
   ]
  },
  {
   "cell_type": "markdown",
   "id": "2584dca2",
   "metadata": {},
   "source": [
    "# What is init?"
   ]
  },
  {
   "cell_type": "markdown",
   "id": "dd671476",
   "metadata": {},
   "source": [
    "ANSWER :- The __init__ method is the Python equivalent of the C++ constructor in an object-oriented approach. The __init__ function is called every time an object is created from a class. The __init__ method lets the class initialize the object's attributes and serves no other purpose. It is only used within classes"
   ]
  },
  {
   "cell_type": "markdown",
   "id": "f973a1b6",
   "metadata": {},
   "source": [
    "# What Is A Constructor In Python?"
   ]
  },
  {
   "cell_type": "markdown",
   "id": "589c43e3",
   "metadata": {},
   "source": [
    " ANSWER :- The purpose of a python constructor is to assign values to the data members within the class when an object is initialized. The name of the constructor method is always __init__. In this example, the __init__ method is called when the Person object is created, and it sets the name and age attributes of the object"
   ]
  },
  {
   "cell_type": "markdown",
   "id": "dc96aab1",
   "metadata": {},
   "source": [
    "# What is Instantiation in terms of OOP terminology?"
   ]
  },
  {
   "cell_type": "markdown",
   "id": "4ddc86a3",
   "metadata": {},
   "source": [
    "ANSWER :- An instance is the use of an object within a specific class. In many coding languages, it's the same thing as an object, but the term \"instance\" refers to the relationship between the object and its class. The process of creating an instance is called instantiation"
   ]
  },
  {
   "cell_type": "markdown",
   "id": "faff41d3",
   "metadata": {},
   "source": [
    "# What is used to check whether an object o is an instance of class A?"
   ]
  },
  {
   "cell_type": "markdown",
   "id": "e3916736",
   "metadata": {},
   "source": [
    "ANSWER :- The instanceof operator in Java is used to check whether an object is an instance of a particular class or not. objectName instanceOf className; Here, if objectName is an instance of className , the operator returns true . Otherwise, it returns false ."
   ]
  },
  {
   "cell_type": "markdown",
   "id": "2d51fea6",
   "metadata": {},
   "source": [
    "# What relationship is appropriate for Course and Faculty?"
   ]
  },
  {
   "cell_type": "markdown",
   "id": "9e167010",
   "metadata": {},
   "source": [
    "ANSWER :- association"
   ]
  },
  {
   "cell_type": "markdown",
   "id": "ad7f5e24",
   "metadata": {},
   "source": [
    "# What relationship is appropriate for Student and Person?"
   ]
  },
  {
   "cell_type": "code",
   "execution_count": null,
   "id": "361a95cb",
   "metadata": {},
   "outputs": [],
   "source": [
    "ANSWER :- association"
   ]
  }
 ],
 "metadata": {
  "kernelspec": {
   "display_name": "Python 3 (ipykernel)",
   "language": "python",
   "name": "python3"
  },
  "language_info": {
   "codemirror_mode": {
    "name": "ipython",
    "version": 3
   },
   "file_extension": ".py",
   "mimetype": "text/x-python",
   "name": "python",
   "nbconvert_exporter": "python",
   "pygments_lexer": "ipython3",
   "version": "3.9.12"
  }
 },
 "nbformat": 4,
 "nbformat_minor": 5
}
