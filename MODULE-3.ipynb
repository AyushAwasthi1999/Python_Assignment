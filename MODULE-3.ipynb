{
 "cells": [
  {
   "cell_type": "markdown",
   "id": "787a1cac",
   "metadata": {},
   "source": [
    "# 01:- What is List? How will you reverse a list?"
   ]
  },
  {
   "cell_type": "markdown",
   "id": "b43fcc3f",
   "metadata": {},
   "source": [
    "### LIST DEFINE :- Lists are used to store multiple items in a single variable."
   ]
  },
  {
   "cell_type": "markdown",
   "id": "14f9ab5e",
   "metadata": {},
   "source": [
    "### Lists are one of 4 built-in data types in Python used to store collections of data, the other 3 are Tuple, Set, and Dictionary, all with different qualities and usage."
   ]
  },
  {
   "cell_type": "markdown",
   "id": "1f92669c",
   "metadata": {},
   "source": [
    "# Python List reverse()"
   ]
  },
  {
   "cell_type": "markdown",
   "id": "bd1ae246",
   "metadata": {},
   "source": [
    "### Python List reverse() is an inbuilt method in the Python programming language that reverses objects of the List in place i.e. it doesn’t use any extra space but it just modifies the original list."
   ]
  },
  {
   "cell_type": "markdown",
   "id": "15617413",
   "metadata": {},
   "source": [
    "## REVERSE A LIST()\n",
    "\n",
    "\n",
    "### Reversing a list in-place with the list.reverse() method\n",
    "### Using the “[::-1]” list slicing trick to create a reversed copy\n",
    "### Creating a reverse iterator with the reversed() built-in function"
   ]
  },
  {
   "cell_type": "code",
   "execution_count": null,
   "id": "aeabcbfc",
   "metadata": {},
   "outputs": [],
   "source": []
  },
  {
   "cell_type": "markdown",
   "id": "26b04379",
   "metadata": {},
   "source": [
    "# 02 :- How will you remove last object from a list?"
   ]
  },
  {
   "cell_type": "code",
   "execution_count": 1,
   "id": "fd97ab0c",
   "metadata": {},
   "outputs": [
    {
     "name": "stdout",
     "output_type": "stream",
     "text": [
      "['a', 'e', 'i', 'o']\n"
     ]
    }
   ],
   "source": [
    "list_of_vowels = ['a','e','i','o','u']\n",
    "list_of_vowels.pop()\n",
    "\n",
    "print(list_of_vowels)"
   ]
  },
  {
   "cell_type": "code",
   "execution_count": null,
   "id": "17c684b6",
   "metadata": {},
   "outputs": [],
   "source": []
  },
  {
   "cell_type": "markdown",
   "id": "ff310538",
   "metadata": {},
   "source": [
    " # 03 :- Suppose list1 is [2, 33, 222, 14, and 25], what is list1 [-1] ?"
   ]
  },
  {
   "cell_type": "markdown",
   "id": "59431b20",
   "metadata": {},
   "source": [
    "### ANSWER :- Explanation: -1 corresponds to the last index in the list."
   ]
  },
  {
   "cell_type": "code",
   "execution_count": null,
   "id": "ab6bfe2f",
   "metadata": {},
   "outputs": [],
   "source": []
  },
  {
   "cell_type": "markdown",
   "id": "fef9d457",
   "metadata": {},
   "source": [
    "# 04 :- Differentiate between append () and extend () methods?"
   ]
  },
  {
   "cell_type": "markdown",
   "id": "efaf5591",
   "metadata": {},
   "source": [
    "## extend()\n",
    "\n",
    "### Adds multiple elements to a list.\n",
    "### Length increases by the number of elements added.\n",
    "### Time complexity is O(n), with n being a number of list elements.\n",
    "\n",
    "## append()\n",
    "\n",
    "### Adds the input as a single element to a list.\n",
    "### Length increases by 1.\n",
    "### Time complexity O(1) or constant."
   ]
  },
  {
   "cell_type": "code",
   "execution_count": null,
   "id": "72bdf820",
   "metadata": {},
   "outputs": [],
   "source": []
  },
  {
   "cell_type": "markdown",
   "id": "fea42598",
   "metadata": {},
   "source": [
    "# 05 :- Write a Python function to get the largest number, smallest num and sum\n",
    "# of all from a list."
   ]
  },
  {
   "cell_type": "code",
   "execution_count": null,
   "id": "b18285bc",
   "metadata": {},
   "outputs": [],
   "source": [
    "n=int(input(\"ENTER THE TOTAL NO OF ELEMENT YOU WANT INSIDE YOUR LIST : \"))\n",
    "l=[]\n",
    "\n",
    "for i in range (n):\n",
    "    ele=int(input(\"ENTER THE ELEMENT : \"))\n",
    "    l.append(ele)\n",
    "    print(\"MY LIST\",l)\n",
    "    \n",
    "    sort_list=l.sort()\n",
    "    print(\"SORTED LIST : \",l)\n",
    "    \n",
    "    minimum_ele=l[0]\n",
    "    print(\"MINIMUM ELMENT : \",minimum_ele)\n",
    "    \n",
    "    maximum_ele=l[-1]\n",
    "    print(\"MAXIMUM ELEMENT : \",maximum_ele)\n"
   ]
  },
  {
   "cell_type": "markdown",
   "id": "a8953c5b",
   "metadata": {},
   "source": [
    "# 06 :- How will you compare two lists?"
   ]
  },
  {
   "cell_type": "markdown",
   "id": "29957c12",
   "metadata": {},
   "source": [
    "## DEFINE :- TWO LISTS CAN BE COMPARED WITH THE COMPARSION OPERATOR OF PYTHON\n",
    "\n",
    "## I.E :- <, <=, >, >=, ==, !=,\n",
    "\n",
    "## PYTHON INTERNALLY COMPARES INDIVIDUAL ELEMENTS OF LIST IN LEXICOGRAPHICAL ORDER"
   ]
  },
  {
   "cell_type": "code",
   "execution_count": 12,
   "id": "9be91032",
   "metadata": {},
   "outputs": [],
   "source": [
    "#PROGRAM TO COMPARE 2 LISTS\n",
    "def compare(l1,l2):\n",
    "    \n",
    "    list1.sort()\n",
    "    list2.sort()\n",
    "    \n",
    "    list1=[2,3,4,5]\n",
    "    list2=[5,4,2,3]\n",
    "    \n",
    "    print(\"COMPARSION\",compare(list1,list2))\n",
    "    \n",
    "    if(list1==list2):\n",
    "        print(\"EQUAL LIST\")\n",
    "    else:\n",
    "        print(\"NOT EQUAL LIST\")\n",
    "\n",
    "\n"
   ]
  },
  {
   "cell_type": "code",
   "execution_count": null,
   "id": "9f0d6199",
   "metadata": {},
   "outputs": [],
   "source": []
  },
  {
   "cell_type": "markdown",
   "id": "ffecd0f5",
   "metadata": {},
   "source": [
    "# 07:- Write a Python program to count the number of strings where the string\n",
    "# length is 2 or more and the first and last character are same from a given\n",
    "# list of strings."
   ]
  },
  {
   "cell_type": "code",
   "execution_count": 13,
   "id": "ca4e66b8",
   "metadata": {},
   "outputs": [
    {
     "name": "stdout",
     "output_type": "stream",
     "text": [
      "2\n"
     ]
    }
   ],
   "source": [
    "def match_words(words):\n",
    "  ctr = 0\n",
    "\n",
    "  for word in words:\n",
    "    if len(word) > 1 and word[0] == word[-1]:\n",
    "      ctr += 1\n",
    "  return ctr\n",
    "\n",
    "print(match_words(['abc', 'xyz', 'aba', '1221']))\n"
   ]
  },
  {
   "cell_type": "code",
   "execution_count": null,
   "id": "8ed8956d",
   "metadata": {},
   "outputs": [],
   "source": []
  }
 ],
 "metadata": {
  "kernelspec": {
   "display_name": "Python 3 (ipykernel)",
   "language": "python",
   "name": "python3"
  },
  "language_info": {
   "codemirror_mode": {
    "name": "ipython",
    "version": 3
   },
   "file_extension": ".py",
   "mimetype": "text/x-python",
   "name": "python",
   "nbconvert_exporter": "python",
   "pygments_lexer": "ipython3",
   "version": "3.9.12"
  }
 },
 "nbformat": 4,
 "nbformat_minor": 5
}
