{
 "cells": [
  {
   "cell_type": "markdown",
   "id": "e80ceb14",
   "metadata": {},
   "source": [
    "# 01:- What is List? How will you reverse a list?"
   ]
  },
  {
   "cell_type": "markdown",
   "id": "e0b33272",
   "metadata": {},
   "source": [
    "### LIST DEFINE :- Lists are used to store multiple items in a single variable."
   ]
  },
  {
   "cell_type": "markdown",
   "id": "a540789b",
   "metadata": {},
   "source": [
    "### Lists are one of 4 built-in data types in Python used to store collections of data, the other 3 are Tuple, Set, and Dictionary, all with different qualities and usage."
   ]
  },
  {
   "cell_type": "markdown",
   "id": "996de9d6",
   "metadata": {},
   "source": [
    "# Python List reverse()"
   ]
  },
  {
   "cell_type": "markdown",
   "id": "60aec9de",
   "metadata": {},
   "source": [
    "### Python List reverse() is an inbuilt method in the Python programming language that reverses objects of the List in place i.e. it doesn’t use any extra space but it just modifies the original list."
   ]
  },
  {
   "cell_type": "markdown",
   "id": "52358d63",
   "metadata": {},
   "source": [
    "## REVERSE A LIST()\n",
    "\n",
    "\n",
    "### Reversing a list in-place with the list.reverse() method\n",
    "### Using the “[::-1]” list slicing trick to create a reversed copy\n",
    "### Creating a reverse iterator with the reversed() built-in function"
   ]
  },
  {
   "cell_type": "code",
   "execution_count": null,
   "id": "128f0709",
   "metadata": {},
   "outputs": [],
   "source": []
  },
  {
   "cell_type": "markdown",
   "id": "d242a10a",
   "metadata": {},
   "source": [
    "# 02 :- How will you remove last object from a list?"
   ]
  },
  {
   "cell_type": "code",
   "execution_count": 1,
   "id": "7833fe02",
   "metadata": {},
   "outputs": [
    {
     "name": "stdout",
     "output_type": "stream",
     "text": [
      "['a', 'e', 'i', 'o']\n"
     ]
    }
   ],
   "source": [
    "list_of_vowels = ['a','e','i','o','u']\n",
    "list_of_vowels.pop()\n",
    "\n",
    "print(list_of_vowels)"
   ]
  },
  {
   "cell_type": "code",
   "execution_count": null,
   "id": "218a0d6c",
   "metadata": {},
   "outputs": [],
   "source": []
  },
  {
   "cell_type": "markdown",
   "id": "fafdca0d",
   "metadata": {},
   "source": [
    " # 03 :- Suppose list1 is [2, 33, 222, 14, and 25], what is list1 [-1] ?"
   ]
  },
  {
   "cell_type": "markdown",
   "id": "b79e2c6b",
   "metadata": {},
   "source": [
    "### ANSWER :- Explanation: -1 corresponds to the last index in the list."
   ]
  },
  {
   "cell_type": "code",
   "execution_count": null,
   "id": "421801d6",
   "metadata": {},
   "outputs": [],
   "source": []
  },
  {
   "cell_type": "markdown",
   "id": "a5aaa9e8",
   "metadata": {},
   "source": [
    "# Differentiate between append () and extend () methods?"
   ]
  },
  {
   "cell_type": "markdown",
   "id": "daa2cc36",
   "metadata": {},
   "source": [
    "## extend()\n",
    "\n",
    "### Adds multiple elements to a list.\n",
    "### Length increases by the number of elements added.\n",
    "### Time complexity is O(n), with n being a number of list elements.\n",
    "\n",
    "## append()\n",
    "\n",
    "### Adds the input as a single element to a list.\n",
    "### Length increases by 1.\n",
    "### Time complexity O(1) or constant."
   ]
  },
  {
   "cell_type": "code",
   "execution_count": null,
   "id": "2eff206b",
   "metadata": {},
   "outputs": [],
   "source": []
  },
  {
   "cell_type": "markdown",
   "id": "f9637071",
   "metadata": {},
   "source": [
    "# Write a Python function to get the largest number, smallest num and sum\n",
    "# of all from a list."
   ]
  },
  {
   "cell_type": "code",
   "execution_count": null,
   "id": "73321cd7",
   "metadata": {},
   "outputs": [],
   "source": [
    "n=int(input(\"ENTER THE TOTAL NO OF ELEMENT YOU WANT INSIDE YOUR LIST : \"))\n",
    "l=[]\n",
    "\n",
    "for i in range (n):\n",
    "    ele=int(input(\"ENTER THE ELEMENT : \"))\n",
    "    l.append(ele)\n",
    "    print(\"MY LIST\",l)\n",
    "    \n",
    "    sort_list=l.sort()\n",
    "    print(\"SORTED LIST : \",l)\n",
    "    \n",
    "    minimum_ele=l[0]\n",
    "    print(\"MINIMUM ELMENT : \",minimum_ele)\n",
    "    \n",
    "    maximum_ele=l[-1]\n",
    "    print(\"MAXIMUM ELEMENT : \",maximum_ele)\n"
   ]
  },
  {
   "cell_type": "markdown",
   "id": "3e1c0c7f",
   "metadata": {},
   "source": [
    "# How will you compare two lists?"
   ]
  },
  {
   "cell_type": "markdown",
   "id": "f7461467",
   "metadata": {},
   "source": [
    "## DEFINE :- TWO LISTS CAN BE COMPARED WITH THE COMPARSION OPERATOR OF PYTHON\n",
    "\n",
    "## I.E :- <, <=, >, >=, ==, !=,\n",
    "\n",
    "## PYTHON INTERNALLY COMPARES INDIVIDUAL ELEMENTS OF LIST IN LEXICOGRAPHICAL ORDER"
   ]
  }
 ],
 "metadata": {
  "kernelspec": {
   "display_name": "Python 3 (ipykernel)",
   "language": "python",
   "name": "python3"
  },
  "language_info": {
   "codemirror_mode": {
    "name": "ipython",
    "version": 3
   },
   "file_extension": ".py",
   "mimetype": "text/x-python",
   "name": "python",
   "nbconvert_exporter": "python",
   "pygments_lexer": "ipython3",
   "version": "3.9.12"
  }
 },
 "nbformat": 4,
 "nbformat_minor": 5
}
