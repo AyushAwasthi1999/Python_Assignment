{
 "cells": [
  {
   "cell_type": "markdown",
   "id": "4b259419",
   "metadata": {},
   "source": [
    "# 01:- What is List? How will you reverse a list?"
   ]
  },
  {
   "cell_type": "markdown",
   "id": "01c27ca7",
   "metadata": {},
   "source": [
    "### LIST DEFINE :- Lists are used to store multiple items in a single variable."
   ]
  },
  {
   "cell_type": "markdown",
   "id": "768bb115",
   "metadata": {},
   "source": [
    "### Lists are one of 4 built-in data types in Python used to store collections of data, the other 3 are Tuple, Set, and Dictionary, all with different qualities and usage."
   ]
  },
  {
   "cell_type": "markdown",
   "id": "f6164707",
   "metadata": {},
   "source": [
    "# Python List reverse()"
   ]
  },
  {
   "cell_type": "markdown",
   "id": "28a5115e",
   "metadata": {},
   "source": [
    "### Python List reverse() is an inbuilt method in the Python programming language that reverses objects of the List in place i.e. it doesn’t use any extra space but it just modifies the original list."
   ]
  },
  {
   "cell_type": "markdown",
   "id": "73d1ec82",
   "metadata": {},
   "source": [
    "## REVERSE A LIST()\n",
    "\n",
    "\n",
    "### Reversing a list in-place with the list.reverse() method\n",
    "### Using the “[::-1]” list slicing trick to create a reversed copy\n",
    "### Creating a reverse iterator with the reversed() built-in function"
   ]
  },
  {
   "cell_type": "code",
   "execution_count": null,
   "id": "b79a147e",
   "metadata": {},
   "outputs": [],
   "source": []
  },
  {
   "cell_type": "markdown",
   "id": "05608a8e",
   "metadata": {},
   "source": [
    "# 02 :- How will you remove last object from a list?"
   ]
  },
  {
   "cell_type": "code",
   "execution_count": 1,
   "id": "d7db3beb",
   "metadata": {},
   "outputs": [
    {
     "name": "stdout",
     "output_type": "stream",
     "text": [
      "['a', 'e', 'i', 'o']\n"
     ]
    }
   ],
   "source": [
    "list_of_vowels = ['a','e','i','o','u']\n",
    "list_of_vowels.pop()\n",
    "\n",
    "print(list_of_vowels)"
   ]
  },
  {
   "cell_type": "code",
   "execution_count": null,
   "id": "ed9336dd",
   "metadata": {},
   "outputs": [],
   "source": []
  },
  {
   "cell_type": "markdown",
   "id": "b1a03de6",
   "metadata": {},
   "source": [
    " # 03 :- Suppose list1 is [2, 33, 222, 14, and 25], what is list1 [-1] ?"
   ]
  }
 ],
 "metadata": {
  "kernelspec": {
   "display_name": "Python 3 (ipykernel)",
   "language": "python",
   "name": "python3"
  },
  "language_info": {
   "codemirror_mode": {
    "name": "ipython",
    "version": 3
   },
   "file_extension": ".py",
   "mimetype": "text/x-python",
   "name": "python",
   "nbconvert_exporter": "python",
   "pygments_lexer": "ipython3",
   "version": "3.9.12"
  }
 },
 "nbformat": 4,
 "nbformat_minor": 5
}
