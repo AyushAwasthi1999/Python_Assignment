{
 "cells": [
  {
   "cell_type": "markdown",
   "id": "094245d0",
   "metadata": {},
   "source": [
    "# Write a Python program to check if a number is positive, negative or zero"
   ]
  },
  {
   "cell_type": "code",
   "execution_count": 2,
   "id": "d1d070ef",
   "metadata": {},
   "outputs": [
    {
     "name": "stdout",
     "output_type": "stream",
     "text": [
      "ENTER A NUMBER:5\n",
      "5 is a positive\n"
     ]
    }
   ],
   "source": [
    "num = int(input(\"ENTER A NUMBER:\"))\n",
    "\n",
    "if num > 0:\n",
    "    print(num,\"is a positive\")\n",
    "   \n",
    "elif num == 0:\n",
    "    print(num,\"is a zero\")\n",
    "    \n",
    "else:\n",
    "    print(num,\"is a negative\")"
   ]
  },
  {
   "cell_type": "code",
   "execution_count": null,
   "id": "e44dafc4",
   "metadata": {},
   "outputs": [],
   "source": []
  }
 ],
 "metadata": {
  "kernelspec": {
   "display_name": "Python 3 (ipykernel)",
   "language": "python",
   "name": "python3"
  },
  "language_info": {
   "codemirror_mode": {
    "name": "ipython",
    "version": 3
   },
   "file_extension": ".py",
   "mimetype": "text/x-python",
   "name": "python",
   "nbconvert_exporter": "python",
   "pygments_lexer": "ipython3",
   "version": "3.9.12"
  }
 },
 "nbformat": 4,
 "nbformat_minor": 5
}
