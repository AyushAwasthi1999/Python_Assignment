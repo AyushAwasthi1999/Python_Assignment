{
 "cells": [
  {
   "cell_type": "markdown",
   "id": "cb62678a",
   "metadata": {},
   "source": [
    "# 01:-  What is software? What is software engineering?"
   ]
  },
  {
   "cell_type": "markdown",
   "id": "242aa64d",
   "metadata": {},
   "source": [
    "## SOFTWARE\n",
    "### Software is a set of instructions, data or programs used to operate computers and execute specific tasks. It is the opposite of hardware, which describes the physical aspects of a computer. Software is a generic term used to refer to applications, scripts and programs that run on a device.\n",
    "\n",
    "## SOFTWARE ENGINEERING\n",
    "### Software engineering is the application of principles used in the field of engineering, which usually deals with  physical systems, to the design, development, testing, deployment and management of software systems."
   ]
  },
  {
   "cell_type": "markdown",
   "id": "5dee9e71",
   "metadata": {},
   "source": [
    "# 02 :- Explain types of software ?"
   ]
  },
  {
   "cell_type": "markdown",
   "id": "4844331f",
   "metadata": {},
   "source": [
    "### The two main categories of software are application software and system software. An application is software that fulfills a specific need or performs tasks.\n",
    "\n",
    "### Examples and types of software\n",
    "### Application software. ...\n",
    "### System software. ...\n",
    "### Driver software. ...\n",
    "### Middleware. ...\n",
    "### Programming software."
   ]
  },
  {
   "cell_type": "markdown",
   "id": "7db2e412",
   "metadata": {},
   "source": [
    "# 03 :- What is SDLC? Explain each phase of SDLC"
   ]
  },
  {
   "cell_type": "markdown",
   "id": "86792a60",
   "metadata": {},
   "source": [
    "### Definition. The Software Development Life Cycle (SDLC) is a structured process that enables the production of high-quality, low-cost software, in the shortest possible production time. The goal of the SDLC is to produce superior software that meets and exceeds all customer expectations and demands.\n",
    "\n",
    "### 7 Stages of the System Development Life Cycle\n",
    "### There are seven primary stages of the modern system development life cycle. Here’s a brief breakdown:\n",
    "\n",
    "### Planning Stage\n",
    "### Feasibility or Requirements of Analysis Stage\n",
    "### Design and Prototyping Stage\n",
    "### Software Development Stage\n",
    "### Software Testing Stage\n",
    "### Implementation and Integration\n",
    "### Operations and Maintenance Stage"
   ]
  },
  {
   "cell_type": "markdown",
   "id": "d83820f1",
   "metadata": {},
   "source": [
    "# 04 :-  What is DFD? Create a DFD diagram on Flipkart"
   ]
  },
  {
   "cell_type": "markdown",
   "id": "e8fd1a08",
   "metadata": {},
   "source": [
    "### A data-flow diagram is a way of representing a flow of data through a process or a system (usually an information system). The DFD also provides information about the outputs and inputs of each entity and the process itself."
   ]
  },
  {
   "cell_type": "markdown",
   "id": "2dceea7b",
   "metadata": {},
   "source": [
    "# 05 :- What is Flow chart? Create a flowchart to make addition of two numbers"
   ]
  },
  {
   "cell_type": "markdown",
   "id": "290f8295",
   "metadata": {},
   "source": [
    "### A flowchart is a picture of the separate steps of a process in sequential order. It is a generic tool that can be adapted for a wide variety of purposes, and can be used to describe various processes, such as a manufacturing process, an administrative or service process, or a project plan."
   ]
  },
  {
   "cell_type": "markdown",
   "id": "f78d47fb",
   "metadata": {},
   "source": [
    "### Input : Two numbers a and b\n",
    "### Step 1: Start\n",
    "### Step 2: Declare sum to 0  (This is optional step, during step5 we can add declaration and assign directly as well)\n",
    "### Step 3: Read number a\n",
    "### Step 4: Read number b\n",
    "### Step 5: Add a and b and assign result to variable sum\n",
    "### Step 6: Print sum\n",
    "### Step 7: Stop\n",
    "### Output: Sum of a and b"
   ]
  },
  {
   "cell_type": "markdown",
   "id": "f8e9a4ed",
   "metadata": {},
   "source": [
    "# 06:- What is Use case Diagram? Create a use-case on bill payment on paytm.\n"
   ]
  },
  {
   "cell_type": "markdown",
   "id": "2767270a",
   "metadata": {},
   "source": [
    "### Use-case diagrams describe the high-level functions and scope of a system. These diagrams also identify the interactions between the system and its actors. The use cases and actors in use-case diagrams describe what the system does and how the actors use it, but not how the system operates internally."
   ]
  },
  {
   "cell_type": "markdown",
   "id": "d2b4cde9",
   "metadata": {},
   "source": [
    "###  To make bill payments, firstly the bill details have to be added to the dashboard.\n",
    "\n",
    "###  On the left main menu, go to 'Bill Payments' under the 'Paytm Payouts' tab.\n",
    "###  Click the 'Add Bill' button and enter the details such as store type & bill type etc. The dropdown menu in the ‘Store Type' section will show the list of only those stores for which the user has permission access.\n",
    "###  The input fields for bill details will change dynamically as per the entered bill type, such as electricity bill, water bill, mobile prepaid, mobile postpaid etc.\n",
    "###  Enter the store details for the new bill. \n",
    "###  Fill in all the details as mentioned on the screen and click the 'Add Bill' button to finally submit the details of the bill.\n",
    "###  the system will validate the entered bill details after which it will be added to the 'All Bills' section.\n",
    "###  Further action on the bill  such as editing, bill payment etc will be managed from this section"
   ]
  }
 ],
 "metadata": {
  "kernelspec": {
   "display_name": "Python 3 (ipykernel)",
   "language": "python",
   "name": "python3"
  },
  "language_info": {
   "codemirror_mode": {
    "name": "ipython",
    "version": 3
   },
   "file_extension": ".py",
   "mimetype": "text/x-python",
   "name": "python",
   "nbconvert_exporter": "python",
   "pygments_lexer": "ipython3",
   "version": "3.9.12"
  }
 },
 "nbformat": 4,
 "nbformat_minor": 5
}
